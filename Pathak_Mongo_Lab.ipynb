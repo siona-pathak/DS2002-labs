{
  "cells": [
    {
      "cell_type": "markdown",
      "metadata": {
        "id": "view-in-github",
        "colab_type": "text"
      },
      "source": [
        "<a href=\"https://colab.research.google.com/github/siona-pathak/DS2002-labs/blob/main/Pathak_Mongo_Lab.ipynb\" target=\"_parent\"><img src=\"https://colab.research.google.com/assets/colab-badge.svg\" alt=\"Open In Colab\"/></a>"
      ]
    },
    {
      "cell_type": "markdown",
      "source": [
        "### Exercise 1"
      ],
      "metadata": {
        "id": "gOBq3oj3lKzF"
      },
      "id": "gOBq3oj3lKzF"
    },
    {
      "cell_type": "code",
      "source": [
        "!pip install pymongo"
      ],
      "metadata": {
        "colab": {
          "base_uri": "https://localhost:8080/"
        },
        "id": "rsGqWtNV_BjA",
        "outputId": "6a1aa930-bb49-4be6-af18-1dedc587a7fc"
      },
      "id": "rsGqWtNV_BjA",
      "execution_count": 1,
      "outputs": [
        {
          "output_type": "stream",
          "name": "stdout",
          "text": [
            "Collecting pymongo\n",
            "  Downloading pymongo-4.6.2-cp310-cp310-manylinux_2_17_x86_64.manylinux2014_x86_64.whl (677 kB)\n",
            "\u001b[2K     \u001b[90m━━━━━━━━━━━━━━━━━━━━━━━━━━━━━━━━━━━━━━━━\u001b[0m \u001b[32m677.2/677.2 kB\u001b[0m \u001b[31m3.5 MB/s\u001b[0m eta \u001b[36m0:00:00\u001b[0m\n",
            "\u001b[?25hCollecting dnspython<3.0.0,>=1.16.0 (from pymongo)\n",
            "  Downloading dnspython-2.6.1-py3-none-any.whl (307 kB)\n",
            "\u001b[2K     \u001b[90m━━━━━━━━━━━━━━━━━━━━━━━━━━━━━━━━━━━━━━━━\u001b[0m \u001b[32m307.7/307.7 kB\u001b[0m \u001b[31m5.5 MB/s\u001b[0m eta \u001b[36m0:00:00\u001b[0m\n",
            "\u001b[?25hInstalling collected packages: dnspython, pymongo\n",
            "Successfully installed dnspython-2.6.1 pymongo-4.6.2\n"
          ]
        }
      ]
    },
    {
      "cell_type": "code",
      "execution_count": 3,
      "id": "90fde494",
      "metadata": {
        "id": "90fde494"
      },
      "outputs": [],
      "source": [
        "import os\n",
        "import datetime\n",
        "import pymongo\n",
        "import pprint\n",
        "import pandas as pd"
      ]
    },
    {
      "cell_type": "markdown",
      "id": "8cc48a6f",
      "metadata": {
        "id": "8cc48a6f"
      },
      "source": []
    },
    {
      "cell_type": "code",
      "source": [
        "client.list_database_names()"
      ],
      "metadata": {
        "colab": {
          "base_uri": "https://localhost:8080/"
        },
        "id": "4XP9B1WV1uvJ",
        "outputId": "5be24a34-6eb7-4089-c762-af5ac68f08c8"
      },
      "id": "4XP9B1WV1uvJ",
      "execution_count": 7,
      "outputs": [
        {
          "output_type": "execute_result",
          "data": {
            "text/plain": [
              "['DS2002Final',\n",
              " 'DiegoMcgrath_class',\n",
              " 'ElijahKim_class',\n",
              " 'Emaan_class',\n",
              " 'JamesDraudt_class',\n",
              " 'MaxChang_class',\n",
              " 'MiaArk_class',\n",
              " 'SebastianWiktorowicz_class',\n",
              " 'StoreProducts',\n",
              " 'VarunPavuloori_class',\n",
              " '_class',\n",
              " 'aidantan_class',\n",
              " 'anagha_class',\n",
              " 'anisha_class',\n",
              " 'api_project',\n",
              " 'blog',\n",
              " 'eva_class',\n",
              " 'grace_class',\n",
              " 'kaylasprincis_class',\n",
              " 'project',\n",
              " 'ronit_class',\n",
              " 'sakila',\n",
              " 'sample_airbnb',\n",
              " 'sample_analytics',\n",
              " 'sample_geospatial',\n",
              " 'sample_guides',\n",
              " 'sample_mflix',\n",
              " 'sample_restaurants',\n",
              " 'sample_supplies',\n",
              " 'sample_training',\n",
              " 'sample_weatherdata',\n",
              " 'sp_project2',\n",
              " 'sutherland_class',\n",
              " 'admin',\n",
              " 'local']"
            ]
          },
          "metadata": {},
          "execution_count": 7
        }
      ]
    },
    {
      "cell_type": "markdown",
      "id": "b27f9ae8",
      "metadata": {
        "id": "b27f9ae8"
      },
      "source": [
        "### Exercise 2"
      ]
    },
    {
      "cell_type": "code",
      "execution_count": 10,
      "id": "7a4b710e",
      "metadata": {
        "id": "7a4b710e"
      },
      "outputs": [],
      "source": [
        "db_name = \"Siona_Pathak_class\"\n",
        "\n",
        "db = client[db_name]"
      ]
    },
    {
      "cell_type": "code",
      "execution_count": 11,
      "id": "0a1f9e92",
      "metadata": {
        "id": "0a1f9e92",
        "outputId": "e20ef60e-1919-4cea-a986-d5e4cd899c3f",
        "colab": {
          "base_uri": "https://localhost:8080/"
        }
      },
      "outputs": [
        {
          "output_type": "stream",
          "name": "stdout",
          "text": [
            "Collections []\n"
          ]
        }
      ],
      "source": [
        "print(\"Collections\", db.list_collection_names())"
      ]
    },
    {
      "cell_type": "markdown",
      "source": [
        "#### Exercise 3"
      ],
      "metadata": {
        "id": "YQF1teSAlVpx"
      },
      "id": "YQF1teSAlVpx"
    },
    {
      "cell_type": "code",
      "execution_count": 32,
      "id": "5b9f2393",
      "metadata": {
        "id": "5b9f2393"
      },
      "outputs": [],
      "source": [
        "students = db.students\n",
        "\n",
        "student = {\"Name\": \"Mike\",\n",
        "        \"Major\": \"Computer Science\",\n",
        "        \"Minor\": \"Math\",\n",
        "        \"Year\": \"Third\",\n",
        "        \"Hometown\": \"Ashburn, VA\"\n",
        "       }\n",
        "\n",
        "student_id = students.insert_one(student).inserted_id\n",
        "\n",
        "more_students = [{\"Name\": \"Klara\",\n",
        "        \"Major\": \"Anthropology\",\n",
        "        \"Minor\": \"Political Science\",\n",
        "        \"Year\": \"Second\",\n",
        "        \"Hometown\": \"Roanoke, VA\"\n",
        "       },\n",
        "       {\"Name\": \"Ciara\",\n",
        "        \"Major\": \"Commerce\",\n",
        "        \"Minor\": \"Public Policy\",\n",
        "        \"Year\": \"Fourth\",\n",
        "        \"Hometown\": \"Boston, MA\"\n",
        "       },\n",
        "       {\"Name\": \"Mia\",\n",
        "        \"Major\": \"Global Public Health\",\n",
        "        \"Minor\": \"Biology\",\n",
        "        \"Year\": \"Fourth\",\n",
        "        \"Hometown\": \"Santa Clara, CA\"\n",
        "       }\n",
        "]\n",
        "\n",
        "all_students = students.insert_many(more_students)\n"
      ]
    },
    {
      "cell_type": "markdown",
      "id": "91009c48",
      "metadata": {
        "id": "91009c48"
      },
      "source": [
        "### Exercise 4\n"
      ]
    },
    {
      "cell_type": "code",
      "execution_count": 35,
      "id": "e92481b0",
      "metadata": {
        "id": "e92481b0",
        "outputId": "4aa186bc-702a-4877-c2ed-757781a49b9c",
        "colab": {
          "base_uri": "https://localhost:8080/"
        }
      },
      "outputs": [
        {
          "output_type": "stream",
          "name": "stdout",
          "text": [
            "{'Hometown': 'Blacksburg, VA',\n",
            " 'Major': 'Anthropology',\n",
            " 'Minor': 'Political Science',\n",
            " 'Name': 'Klara',\n",
            " 'Year': 'Second',\n",
            " '_id': ObjectId('6600bc580bb6a0ed39f5a10d')}\n",
            "{'Hometown': 'Ashburn, VA',\n",
            " 'Major': 'Computer Science',\n",
            " 'Minor': 'Math',\n",
            " 'Name': 'Mike',\n",
            " 'Year': 'Third',\n",
            " '_id': ObjectId('6600bfc00bb6a0ed39f5a110')}\n",
            "{'Hometown': 'Roanoke, VA',\n",
            " 'Major': 'Anthropology',\n",
            " 'Minor': 'Political Science',\n",
            " 'Name': 'Klara',\n",
            " 'Year': 'Second',\n",
            " '_id': ObjectId('6600bfc00bb6a0ed39f5a111')}\n",
            "{'Hometown': 'Ashburn, VA',\n",
            " 'Major': 'Computer Science',\n",
            " 'Minor': 'Math',\n",
            " 'Name': 'Mike',\n",
            " 'Year': 'Third',\n",
            " '_id': ObjectId('6600c16f0bb6a0ed39f5a114')}\n",
            "{'Hometown': 'Roanoke, VA',\n",
            " 'Major': 'Anthropology',\n",
            " 'Minor': 'Political Science',\n",
            " 'Name': 'Klara',\n",
            " 'Year': 'Second',\n",
            " '_id': ObjectId('6600c16f0bb6a0ed39f5a115')}\n"
          ]
        }
      ],
      "source": [
        "for student in students.find():\n",
        "    pprint.pprint(student)"
      ]
    },
    {
      "cell_type": "code",
      "execution_count": 17,
      "id": "6f53a1e7",
      "metadata": {
        "id": "6f53a1e7",
        "outputId": "7be2b367-b61e-4ade-a012-b3fad87a2dad",
        "colab": {
          "base_uri": "https://localhost:8080/"
        }
      },
      "outputs": [
        {
          "output_type": "stream",
          "name": "stdout",
          "text": [
            "{'Hometown': 'Santa Clara, CA',\n",
            " 'Major': 'Global Public Health',\n",
            " 'Minor': 'Biology',\n",
            " 'Name': 'Mia',\n",
            " 'Year': 'Fourth',\n",
            " '_id': ObjectId('6600bc580bb6a0ed39f5a10f')}\n"
          ]
        }
      ],
      "source": [
        "for student in students.find( {\"Hometown\" : \"Santa Clara, CA\"} ):\n",
        "    pprint.pprint(student)"
      ]
    },
    {
      "cell_type": "markdown",
      "id": "d3287257",
      "metadata": {
        "id": "d3287257"
      },
      "source": [
        "### Exercise 5\n"
      ]
    },
    {
      "cell_type": "code",
      "execution_count": 33,
      "id": "0aafada4",
      "metadata": {
        "id": "0aafada4"
      },
      "outputs": [],
      "source": [
        "all_students = students.update_one(\n",
        "    {\"Name\" : \"Klara\"},\n",
        "    {\"$set\": {\"Hometown\": \"Blacksburg, VA\"}}\n",
        ")\n",
        "\n",
        "all_students = students.update_many(\n",
        "    {\"Year\" : \"Fourth\"},\n",
        "    {\"$set\": {\"Minor\": \"Data Science\"}}\n",
        ")"
      ]
    },
    {
      "cell_type": "markdown",
      "source": [
        "### Exercise 6"
      ],
      "metadata": {
        "id": "VCQkB2l_j6ZX"
      },
      "id": "VCQkB2l_j6ZX"
    },
    {
      "cell_type": "code",
      "execution_count": 34,
      "id": "e027cff2",
      "metadata": {
        "id": "e027cff2"
      },
      "outputs": [],
      "source": [
        "all_students = students.delete_one(\n",
        "    {\"Name\": \"Mike\",\n",
        "        \"Major\": \"Computer Science\",\n",
        "        \"Minor\": \"Math\",\n",
        "        \"Year\": \"Third\",\n",
        "        \"Hometown\": \"Ashburn, VA\"\n",
        "       }\n",
        ")\n",
        "\n",
        "all_students = students.delete_many(\n",
        "    {\"Year\" : \"Fourth\"}\n",
        ")"
      ]
    }
  ],
  "metadata": {
    "kernelspec": {
      "display_name": "Python 3 (ipykernel)",
      "language": "python",
      "name": "python3"
    },
    "language_info": {
      "codemirror_mode": {
        "name": "ipython",
        "version": 3
      },
      "file_extension": ".py",
      "mimetype": "text/x-python",
      "name": "python",
      "nbconvert_exporter": "python",
      "pygments_lexer": "ipython3",
      "version": "3.9.12"
    },
    "colab": {
      "provenance": [],
      "include_colab_link": true
    }
  },
  "nbformat": 4,
  "nbformat_minor": 5
}